{
 "cells": [
  {
   "cell_type": "markdown",
   "metadata": {},
   "source": [
    "# Inhomogeneous Pebble Game"
   ]
  },
  {
   "cell_type": "markdown",
   "metadata": {},
   "source": [
    "The inhomogeneous pebble game is a variation of the standard pebble game where the stationary probabilities associated with each state (or position) are not uniform. This means that some positions are more likely to be occupied than others. The inhomogeneous nature of the game is characterized by these different probabilities, which influence the movement of the pebbles. The transition probabilities between states must be adjusted to maintain the detailed balance condition, using the Metropolis algorithm to ensure the correct distribution is achieved."
   ]
  },
  {
   "cell_type": "markdown",
   "metadata": {},
   "source": [
    "<img src=\"./imgs/inhomogeneous_pebble_game.png\" alt=\"Inhomogeneous Pebble Game\" width=\"300\"/>   "
   ]
  },
  {
   "cell_type": "code",
   "execution_count": 1,
   "metadata": {},
   "outputs": [],
   "source": [
    "import numpy as np\n",
    "import string\n",
    "import random"
   ]
  },
  {
   "cell_type": "code",
   "execution_count": 2,
   "metadata": {},
   "outputs": [],
   "source": [
    "def create_system(n):\n",
    "    letters = np.array(list(string.ascii_uppercase))\n",
    "    system = letters[:n * n].reshape(n, n)\n",
    "    return system"
   ]
  },
  {
   "cell_type": "code",
   "execution_count": 3,
   "metadata": {},
   "outputs": [
    {
     "name": "stdout",
     "output_type": "stream",
     "text": [
      "[['A' 'B' 'C' 'D']\n",
      " ['E' 'F' 'G' 'H']\n",
      " ['I' 'J' 'K' 'L']\n",
      " ['M' 'N' 'O' 'P']]\n"
     ]
    }
   ],
   "source": [
    "n = 6  # specify the size of the system. max dimension of the system is 5\n",
    "system = create_system(4)\n",
    "print(system)"
   ]
  },
  {
   "cell_type": "code",
   "execution_count": 4,
   "metadata": {},
   "outputs": [],
   "source": [
    "def get_neighborhood_table(system):\n",
    "    n = system.shape[0]\n",
    "    neighborhood_table = {}\n",
    "    \n",
    "    for i in range(n):\n",
    "        for j in range(n):\n",
    "            neighbors = []\n",
    "            if i > 0:  # up\n",
    "                neighbors.append(str(system[i-1, j]))\n",
    "            else:\n",
    "                neighbors.append(str(system[i, j]))\n",
    "\n",
    "            if j < n-1:  # right\n",
    "                neighbors.append(str(system[i, j+1]))\n",
    "            else:\n",
    "                neighbors.append(str(system[i, j]))\n",
    "                \n",
    "            if i < n-1:  # down\n",
    "                neighbors.append(str(system[i+1, j]))\n",
    "            else:\n",
    "                neighbors.append(str(system[i, j]))\n",
    "\n",
    "            if j > 0:  # left\n",
    "                neighbors.append(str(system[i, j-1]))\n",
    "            else:\n",
    "                neighbors.append(str(system[i, j]))\n",
    "\n",
    "            neighborhood_table[str(system[i, j])] = neighbors\n",
    "    \n",
    "    return neighborhood_table"
   ]
  },
  {
   "cell_type": "code",
   "execution_count": 5,
   "metadata": {},
   "outputs": [
    {
     "name": "stdout",
     "output_type": "stream",
     "text": [
      "{'A': ['A', 'B', 'E', 'A'], 'B': ['B', 'C', 'F', 'A'], 'C': ['C', 'D', 'G', 'B'], 'D': ['D', 'D', 'H', 'C'], 'E': ['A', 'F', 'I', 'E'], 'F': ['B', 'G', 'J', 'E'], 'G': ['C', 'H', 'K', 'F'], 'H': ['D', 'H', 'L', 'G'], 'I': ['E', 'J', 'M', 'I'], 'J': ['F', 'K', 'N', 'I'], 'K': ['G', 'L', 'O', 'J'], 'L': ['H', 'L', 'P', 'K'], 'M': ['I', 'N', 'M', 'M'], 'N': ['J', 'O', 'N', 'M'], 'O': ['K', 'P', 'O', 'N'], 'P': ['L', 'P', 'P', 'O']}\n"
     ]
    }
   ],
   "source": [
    "neighborhood_table = get_neighborhood_table(system) # get the neighborhood table\n",
    "print(neighborhood_table)"
   ]
  },
  {
   "cell_type": "code",
   "execution_count": 6,
   "metadata": {},
   "outputs": [],
   "source": [
    "# defining stationary probabilities\n",
    "sta_prob = {'A':2, 'B':2, 'C':2, 'D':2, 'E':2, 'F':1, 'G':1, 'H':2, 'I':2, 'J':1, 'K':1, 'L':2, 'M':2, 'N':2, 'O':2, 'P':2}"
   ]
  },
  {
   "cell_type": "code",
   "execution_count": 7,
   "metadata": {},
   "outputs": [],
   "source": [
    "def metropolis_pebble(num_iter, neighborhood_table, sta_prob):\n",
    "    scores={'A': 0, 'B': 0, 'C': 0, 'D': 0, 'E': 0, 'F': 0, 'G': 0, 'H': 0, 'I':0, 'J': 0, 'K': 0, 'L': 0, 'M': 0, 'N': 0, 'O': 0, 'P': 0}  # number of hits for the each pos.\n",
    "\n",
    "    current_pos = 'A'  # inital pos.\n",
    "    current_pos_prob = sta_prob[current_pos]    # get stationary prob. of current pos.\n",
    "    for i in range(num_iter):\n",
    "        new_direct = random.randint(0, 3)    # direction for the new random pos.\n",
    "        new_pos = neighborhood_table[current_pos][new_direct]\n",
    "        new_pos_prob = sta_prob[new_pos]    # get stationary prob. of new pos.\n",
    "        gamma = min(1, new_pos_prob/current_pos_prob)   # finding the accepting prob.\n",
    "\n",
    "        if (random.uniform(0, 1) < gamma):  # accept or reject the new pos.\n",
    "            current_pos = new_pos\n",
    "            current_pos_prob = new_pos_prob\n",
    "\n",
    "        scores[current_pos] += 1    # update the number of hits at a pos.\n",
    "\n",
    "    return scores"
   ]
  },
  {
   "cell_type": "code",
   "execution_count": 8,
   "metadata": {},
   "outputs": [],
   "source": [
    "num_iter = 5000000\n",
    "scores = metropolis_pebble(num_iter, neighborhood_table, sta_prob)"
   ]
  },
  {
   "cell_type": "code",
   "execution_count": 9,
   "metadata": {},
   "outputs": [
    {
     "name": "stdout",
     "output_type": "stream",
     "text": [
      "A 0.0714\n",
      "B 0.0715\n",
      "C 0.0714\n",
      "D 0.0715\n",
      "E 0.0714\n",
      "F 0.0359\n",
      "G 0.0358\n",
      "H 0.0718\n",
      "I 0.0712\n",
      "J 0.0357\n",
      "K 0.0355\n",
      "L 0.0715\n",
      "M 0.0716\n",
      "N 0.0714\n",
      "O 0.0710\n",
      "P 0.0715\n"
     ]
    }
   ],
   "source": [
    "for i in scores:\n",
    "    print(i, f\"{scores[i]/num_iter:.4f}\")"
   ]
  },
  {
   "cell_type": "code",
   "execution_count": null,
   "metadata": {},
   "outputs": [],
   "source": []
  }
 ],
 "metadata": {
  "kernelspec": {
   "display_name": "Python 3",
   "language": "python",
   "name": "python3"
  },
  "language_info": {
   "codemirror_mode": {
    "name": "ipython",
    "version": 3
   },
   "file_extension": ".py",
   "mimetype": "text/x-python",
   "name": "python",
   "nbconvert_exporter": "python",
   "pygments_lexer": "ipython3",
   "version": "3.12.1"
  }
 },
 "nbformat": 4,
 "nbformat_minor": 2
}
