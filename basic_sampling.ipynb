{
 "cells": [
  {
   "cell_type": "markdown",
   "metadata": {},
   "source": [
    "# Basic Sampling"
   ]
  },
  {
   "cell_type": "markdown",
   "metadata": {},
   "source": [
    "In computational statistical mechanics, sampling distributions with known probabilities (stationary probabilities) can be done using algorithms such as rejection or rejection-free methods like tower sampling. Rejection algorithms randomly sample potential outcomes and discard those that don't meet criteria, while tower sampling accumulates probabilities to select an outcome without rejection, allowing efficient sampling even from large populations."
   ]
  },
  {
   "cell_type": "markdown",
   "metadata": {},
   "source": [
    "## Finite distributions"
   ]
  },
  {
   "cell_type": "markdown",
   "metadata": {},
   "source": [
    "<img src=\"./imgs/basic_sampling.png\" alt=\"Basic Sampling\" width=\"600\"/>   "
   ]
  },
  {
   "cell_type": "code",
   "execution_count": 1,
   "metadata": {},
   "outputs": [],
   "source": [
    "import random\n",
    "import numpy as np\n",
    "import matplotlib.pyplot as plt"
   ]
  },
  {
   "cell_type": "code",
   "execution_count": 2,
   "metadata": {},
   "outputs": [],
   "source": [
    "def metropolis_pebble(num_iter, activities, probabilities):\n",
    "    scores = dict()\n",
    "    for i in activities:\n",
    "        scores[i] = 0\n",
    "\n",
    "    current_pos = activities[0]\n",
    "    current_pos_prob = probabilities[0]\n",
    "    for i in range(num_iter):\n",
    "        new_idx = random.randint(0, len(activities)-1)\n",
    "        new_pos = activities[new_idx]\n",
    "        new_pos_prob = probabilities[new_idx]\n",
    "        gamma = min(1, new_pos_prob/current_pos_prob)\n",
    "\n",
    "        if (random.uniform(0, 1) <= gamma):\n",
    "            current_pos = new_pos\n",
    "            current_pos_prob = new_pos_prob\n",
    "\n",
    "        scores[current_pos] += 1\n",
    "\n",
    "    return scores"
   ]
  },
  {
   "cell_type": "markdown",
   "metadata": {},
   "source": [
    "<img src=\"./imgs/reject_finite.png\" alt=\"Rejection algorithm for finite distribution\" width=\"250\"/>"
   ]
  },
  {
   "cell_type": "code",
   "execution_count": 3,
   "metadata": {},
   "outputs": [],
   "source": [
    "def reject_finite(num_iter, activities, probabilities):\n",
    "    scores = dict()\n",
    "    for i in activities:\n",
    "        scores[i] = 0\n",
    "\n",
    "    max_prob = max(probabilities)\n",
    "    accept_count = 0\n",
    "    for i in range(num_iter):\n",
    "        k = random.randint(0, len(activities)-1)\n",
    "        gamma = random.uniform(0, max_prob)\n",
    "        if (gamma <= probabilities[k]):\n",
    "            scores[activities[k]] += 1\n",
    "            accept_count += 1\n",
    "\n",
    "    return scores, accept_count"
   ]
  },
  {
   "cell_type": "markdown",
   "metadata": {},
   "source": [
    "<img src=\"./imgs/tower_sample.png\" alt=\"Rejection-free algorithm for finite distribution\" width=\"300\"/>   "
   ]
  },
  {
   "cell_type": "code",
   "execution_count": 4,
   "metadata": {},
   "outputs": [],
   "source": [
    "def tower_sample(num_iter, activities, probabilities):\n",
    "    scores = dict()\n",
    "    for i in activities:\n",
    "        scores[i] = 0\n",
    "        \n",
    "    cum_prob = [0]\n",
    "    for i in range(len(probabilities)):\n",
    "        cum_prob.append(cum_prob[i] + probabilities[i])\n",
    "\n",
    "    for i in range(num_iter):\n",
    "        gamma = random.uniform(0, cum_prob[-1])\n",
    "        for i in range(1, len(cum_prob)):\n",
    "            if gamma <= cum_prob[i]:\n",
    "                scores[activities[i-1]] += 1\n",
    "                break\n",
    "\n",
    "    return scores"
   ]
  },
  {
   "cell_type": "code",
   "execution_count": 5,
   "metadata": {},
   "outputs": [],
   "source": [
    "activities = [\"trip\", \"novel\", \"cricket\", \"movie\", \"video games\", \"studying\", \"football\"]\n",
    "probabilities = [0.1, 0.15, 0.25, 0.2, 0.1, 0.15, 0.05]\n",
    "num_iter = 1000000"
   ]
  },
  {
   "cell_type": "code",
   "execution_count": 6,
   "metadata": {},
   "outputs": [
    {
     "name": "stdout",
     "output_type": "stream",
     "text": [
      "trip : 0.10\n",
      "novel : 0.15\n",
      "cricket : 0.25\n",
      "movie : 0.20\n",
      "video games : 0.10\n",
      "studying : 0.15\n",
      "football : 0.05\n"
     ]
    }
   ],
   "source": [
    "scores = metropolis_pebble(num_iter, activities, probabilities)\n",
    "\n",
    "for i in scores:\n",
    "    print(i, \":\", f\"{scores[i]/num_iter:.2f}\")"
   ]
  },
  {
   "cell_type": "code",
   "execution_count": 7,
   "metadata": {},
   "outputs": [
    {
     "name": "stdout",
     "output_type": "stream",
     "text": [
      "trip : 0.10\n",
      "novel : 0.15\n",
      "cricket : 0.25\n",
      "movie : 0.20\n",
      "video games : 0.10\n",
      "studying : 0.15\n",
      "football : 0.05\n"
     ]
    }
   ],
   "source": [
    "scores, accept_count = reject_finite(num_iter, activities, probabilities)\n",
    "\n",
    "for i in scores:\n",
    "    print(i, \":\", f\"{scores[i]/accept_count:.2f}\")"
   ]
  },
  {
   "cell_type": "code",
   "execution_count": 8,
   "metadata": {},
   "outputs": [
    {
     "name": "stdout",
     "output_type": "stream",
     "text": [
      "trip : 0.10\n",
      "novel : 0.15\n",
      "cricket : 0.25\n",
      "movie : 0.20\n",
      "video games : 0.10\n",
      "studying : 0.15\n",
      "football : 0.05\n"
     ]
    }
   ],
   "source": [
    "scores = tower_sample(num_iter, activities, probabilities)\n",
    "\n",
    "for i in scores:\n",
    "    print(i, \":\", f\"{scores[i]/num_iter:.2f}\")"
   ]
  },
  {
   "cell_type": "markdown",
   "metadata": {},
   "source": [
    "## Continuous Distribution"
   ]
  },
  {
   "cell_type": "markdown",
   "metadata": {},
   "source": [
    "<img src=\"./imgs/continuous_tower_sample.png\" alt=\"Continuum limit of tower sampling\" width=\"550\"/><br>\n",
    "Reference: Krauth, W. (2006). Statistical mechanics : algorithms and computations. Oxford, United Kingdom ; New York, Ny: Oxford University Press."
   ]
  },
  {
   "cell_type": "markdown",
   "metadata": {},
   "source": [
    "Let's $\\pi(x) = \\frac{1}{2}sin(x)$ for $x\\epsilon[0, \\pi]$ otherwise $\\pi(x)=0$. This distribution function is satisfy the normilization condition. Therefore $\\Pi(x) = \\int_{-\\infty}^{x}\\pi(x')dx' = \\frac{1}{2}\\left[ 1-cos(x) \\right] = \\Upsilon = rand(0, 1)$"
   ]
  },
  {
   "cell_type": "code",
   "execution_count": 9,
   "metadata": {},
   "outputs": [],
   "source": [
    "def cont_tower_sample(num_iter):\n",
    "    results = []\n",
    "    for i in range(num_iter):\n",
    "        upsilon = random.uniform(0, 1)\n",
    "        x = np.arccos(1-2*upsilon)\n",
    "        results.append(x)\n",
    "    return np.array(results)"
   ]
  },
  {
   "cell_type": "code",
   "execution_count": 14,
   "metadata": {},
   "outputs": [],
   "source": [
    "results = cont_tower_sample(num_iter)"
   ]
  },
  {
   "cell_type": "code",
   "execution_count": 15,
   "metadata": {},
   "outputs": [
    {
     "data": {
      "image/png": "[encoded data removed]",
      "text/plain": [
       "<Figure size 640x480 with 1 Axes>"
      ]
     },
     "metadata": {},
     "output_type": "display_data"
    }
   ],
   "source": [
    "plt.figure()\n",
    "plt.hist(results, bins=50, density=True)\n",
    "x = np.linspace(0, np.pi)\n",
    "plt.plot(x, (1/2)*np.sin(x), c=\"r\")\n",
    "plt.xlabel(\"x\")\n",
    "plt.ylabel(r\"$\\pi(x)$\")\n",
    "plt.show()"
   ]
  },
  {
   "cell_type": "code",
   "execution_count": null,
   "metadata": {},
   "outputs": [],
   "source": []
  }
 ],
 "metadata": {
  "kernelspec": {
   "display_name": "Python 3",
   "language": "python",
   "name": "python3"
  },
  "language_info": {
   "codemirror_mode": {
    "name": "ipython",
    "version": 3
   },
   "file_extension": ".py",
   "mimetype": "text/x-python",
   "name": "python",
   "nbconvert_exporter": "python",
   "pygments_lexer": "ipython3",
   "version": "3.12.1"
  }
 },
 "nbformat": 4,
 "nbformat_minor": 2
}
